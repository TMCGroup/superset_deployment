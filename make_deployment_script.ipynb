{
 "cells": [
  {
   "cell_type": "markdown",
   "metadata": {
    "deletable": true,
    "editable": true
   },
   "source": [
    "# Literate Programming with Jupyter Notebooks"
   ]
  },
  {
   "cell_type": "markdown",
   "metadata": {},
   "source": [
    "The following will look like a relatively normal article. This is one of the benfits I want to illustrate here. [Jupyter Notebooks](http://jupyter.org/), which was used to write this, provide an executable, documentable, multi-format exportable evironment for programming work. \n",
    "\n",
    "You can inspect, download, use, change and critique everything you see here at: https://github.com/aaronmyatt/superset_deployment\n",
    "\n",
    "I have used [Jupyter Notebooks](http://jupyter.org/) since I first learned about them, I saw an immediate place for them in my day to day workflow. Yet, I have yearned to find a way to integrate the notebooks into my work beyond an excellent experimental and exploratory playground."
   ]
  },
  {
   "cell_type": "markdown",
   "metadata": {},
   "source": [
    "What follows is an effort to extract more utility out of this tool. By the end of this tutorial I hope you will come away with several things:\n",
    "\n",
    "1. How [Jupyter Notebooks](http://jupyter.org/) look and feel\n",
    "2. How the [Ansible](https://www.ansible.com/) provisioning tool works\n",
    "3. How [Jupyter Notebooks](http://jupyter.org/) can be used to develop [literate programming](https://en.wikipedia.org/wiki/Literate_programming) workflows that encourage iteration, experimentation, self-documentation and a reproducible, transparent, sharable outcome."
   ]
  },
  {
   "cell_type": "markdown",
   "metadata": {},
   "source": [
    "## Superset Provisioning Script"
   ]
  },
  {
   "cell_type": "markdown",
   "metadata": {},
   "source": [
    "We will build out an [Ansible](https://www.ansible.com/) deployment script for Airbnb's amazing data visualization tool called [Superset](https://github.com/airbnb/superset)."
   ]
  },
  {
   "cell_type": "markdown",
   "metadata": {},
   "source": [
    "I will not explain too much about the tools employed here, instead I will rely on the workflows micro iterations scattered with light commentary to illustrate the tools functionality. Let us begin."
   ]
  },
  {
   "cell_type": "markdown",
   "metadata": {
    "deletable": true,
    "editable": true
   },
   "source": [
    "## Get the repo using Ansibles Git module\n",
    "\n",
    "http://docs.ansible.com/ansible/git_module.html"
   ]
  },
  {
   "cell_type": "markdown",
   "metadata": {
    "deletable": true,
    "editable": true
   },
   "source": [
    "### Command Line\n",
    "\n",
    "Wherever you see the above heading, we will test the Ansible module, via Jupyter, using a bash command. You could [download and install Ansible](http://docs.ansible.com/ansible/intro_installation.html) and run any of these commands in your own terminal - assuming you're on a Unix machine!"
   ]
  },
  {
   "cell_type": "code",
   "execution_count": 39,
   "metadata": {
    "collapsed": false,
    "deletable": true,
    "editable": true
   },
   "outputs": [
    {
     "name": "stdout",
     "output_type": "stream",
     "text": [
      "localhost | SUCCESS => {\n",
      "    \"after\": \"9ba5b49d8ac197a5ba908b229bd9061ce98c5fca\", \n",
      "    \"before\": null, \n",
      "    \"changed\": true, \n",
      "    \"warnings\": []\n",
      "}\n"
     ]
    },
    {
     "name": "stderr",
     "output_type": "stream",
     "text": [
      " [WARNING]: Host file not found: /usr/local/etc/ansible/hosts\n",
      " [WARNING]: provided hosts list is empty, only localhost is available\n"
     ]
    }
   ],
   "source": [
    "%%bash\n",
    "ansible localhost -m git -a \"repo=https://github.com/airbnb/superset.git dest=~/experiment/superset\""
   ]
  },
  {
   "cell_type": "markdown",
   "metadata": {},
   "source": [
    "Call a module (`-m`) with arguments (`-a`)."
   ]
  },
  {
   "cell_type": "markdown",
   "metadata": {
    "deletable": true,
    "editable": true
   },
   "source": [
    "### Playbook\n",
    "\n",
    "Assuming the command line trial meets our expectations we can next build the task into Ansible's reproducible [Playbook](http://docs.ansible.com/ansible/playbooks.html) format directly from Jupyter."
   ]
  },
  {
   "cell_type": "code",
   "execution_count": 45,
   "metadata": {
    "collapsed": false,
    "deletable": true,
    "editable": true
   },
   "outputs": [
    {
     "name": "stdout",
     "output_type": "stream",
     "text": [
      "Overwriting deploy_superset.yml\n"
     ]
    }
   ],
   "source": [
    "%%writefile deploy_superset.yml\n",
    "\n",
    "---\n",
    "- hosts: localhost\n",
    "\n",
    "  tasks:\n",
    "    - name: clone Superset git repo\n",
    "      git:\n",
    "        repo=https://github.com/airbnb/superset.git\n",
    "        dest=~/experiment.superset"
   ]
  },
  {
   "cell_type": "markdown",
   "metadata": {},
   "source": [
    "> One critical part of the above bash and playbook examples is the `hosts`, or `localhost` in both cases. This is how ansible determines where the tasks should be executed. We could easily replace `localhost` with a remote IP and, provided you have SSH access and the server has Python installed, Ansible would happily execute the same commands there - or anywhere!"
   ]
  },
  {
   "cell_type": "markdown",
   "metadata": {
    "deletable": true,
    "editable": true
   },
   "source": [
    "### Test\n",
    "\n",
    "Finally, for confidence, we can use Ansibles command line tool to check the playbook works properly and that we don't have any syntax errors. You might wonder, what would happen if we just executed the playbook without the `-C` argument - in most cases, nothing! Ansible is [idempotent](http://docs.ansible.com/ansible/glossary.html) which means that it will not redundently execute tasks if the requirements are already satisfied. So we can execute Ansible commands repetatively without fear. "
   ]
  },
  {
   "cell_type": "markdown",
   "metadata": {},
   "source": [
    "Let's make sure we're in the correct directory before proceeding - a simple thing with Jupyter notebooks! Don't forget to change any paths if you decide to follow along at home."
   ]
  },
  {
   "cell_type": "code",
   "execution_count": 2,
   "metadata": {
    "collapsed": false,
    "deletable": true,
    "editable": true
   },
   "outputs": [
    {
     "name": "stdout",
     "output_type": "stream",
     "text": [
      "/Users/lsp/experiment/deploy_superset\n"
     ]
    }
   ],
   "source": [
    "cd ~/experiment/deploy_superset/"
   ]
  },
  {
   "cell_type": "code",
   "execution_count": 47,
   "metadata": {
    "collapsed": false,
    "deletable": true,
    "editable": true
   },
   "outputs": [
    {
     "name": "stdout",
     "output_type": "stream",
     "text": [
      " __________________ \n",
      "< PLAY [localhost] >\n",
      " ------------------ \n",
      "        \\   ^__^\n",
      "         \\  (oo)\\_______\n",
      "            (__)\\       )\\/\\\n",
      "                ||----w |\n",
      "                ||     ||\n",
      "\n",
      " ______________ \n",
      "< TASK [setup] >\n",
      " -------------- \n",
      "        \\   ^__^\n",
      "         \\  (oo)\\_______\n",
      "            (__)\\       )\\/\\\n",
      "                ||----w |\n",
      "                ||     ||\n",
      "\n",
      "ok: [localhost]\n",
      " ________________________________ \n",
      "< TASK [clone Superset git repo] >\n",
      " -------------------------------- \n",
      "        \\   ^__^\n",
      "         \\  (oo)\\_______\n",
      "            (__)\\       )\\/\\\n",
      "                ||----w |\n",
      "                ||     ||\n",
      "\n",
      "changed: [localhost]\n",
      " ____________ \n",
      "< PLAY RECAP >\n",
      " ------------ \n",
      "        \\   ^__^\n",
      "         \\  (oo)\\_______\n",
      "            (__)\\       )\\/\\\n",
      "                ||----w |\n",
      "                ||     ||\n",
      "\n",
      "localhost                  : ok=2    changed=1    unreachable=0    failed=0   \n",
      "\n"
     ]
    },
    {
     "name": "stderr",
     "output_type": "stream",
     "text": [
      " [WARNING]: Host file not found: /usr/local/etc/ansible/hosts\n",
      " [WARNING]: provided hosts list is empty, only localhost is available\n"
     ]
    }
   ],
   "source": [
    "%%bash\n",
    "ansible-playbook -C deploy_superset.yml"
   ]
  },
  {
   "cell_type": "markdown",
   "metadata": {
    "deletable": true,
    "editable": true
   },
   "source": [
    "> Ok, we have the repo downloaded locally, what's next? Let's consult the Superset [documentation](http://airbnb.io/superset/installation.html)."
   ]
  },
  {
   "cell_type": "markdown",
   "metadata": {},
   "source": [
    "## Install system dependencies with Homebrew\n",
    "\n",
    "http://docs.ansible.com/ansible/homebrew_module.html"
   ]
  },
  {
   "cell_type": "markdown",
   "metadata": {
    "deletable": true,
    "editable": true
   },
   "source": [
    "### Command Line\n",
    "\n",
    "I will write this script for execution on a Mac but we could quite easily customise the script to work on any platform."
   ]
  },
  {
   "cell_type": "code",
   "execution_count": 48,
   "metadata": {
    "collapsed": false,
    "deletable": true,
    "editable": true
   },
   "outputs": [
    {
     "name": "stdout",
     "output_type": "stream",
     "text": [
      "localhost | SUCCESS => {\n",
      "    \"changed\": false, \n",
      "    \"msg\": \"Package already installed: pkg-config\"\n",
      "}\n"
     ]
    },
    {
     "name": "stderr",
     "output_type": "stream",
     "text": [
      " [WARNING]: Host file not found: /usr/local/etc/ansible/hosts\n",
      " [WARNING]: provided hosts list is empty, only localhost is available\n"
     ]
    }
   ],
   "source": [
    "%%bash\n",
    "ansible localhost -m homebrew -a \"name=pkg-config\""
   ]
  },
  {
   "cell_type": "markdown",
   "metadata": {
    "deletable": true,
    "editable": true
   },
   "source": [
    "> Since I already have homebrew and use it regularly, this package is already installed. Now we will see one of the limitations of using the command line - I need to perform the same ansible action *4 times*!"
   ]
  },
  {
   "cell_type": "code",
   "execution_count": 49,
   "metadata": {
    "collapsed": false,
    "deletable": true,
    "editable": true
   },
   "outputs": [
    {
     "name": "stdout",
     "output_type": "stream",
     "text": [
      "localhost | SUCCESS => {\n",
      "    \"changed\": true, \n",
      "    \"msg\": \"Package installed: libffi\"\n",
      "}\n"
     ]
    },
    {
     "name": "stderr",
     "output_type": "stream",
     "text": [
      " [WARNING]: Host file not found: /usr/local/etc/ansible/hosts\n",
      " [WARNING]: provided hosts list is empty, only localhost is available\n"
     ]
    }
   ],
   "source": [
    "%%bash\n",
    "ansible localhost -m homebrew -a \"name=libffi\""
   ]
  },
  {
   "cell_type": "markdown",
   "metadata": {
    "deletable": true,
    "editable": true
   },
   "source": [
    "### Playbook"
   ]
  },
  {
   "cell_type": "markdown",
   "metadata": {
    "deletable": true,
    "editable": true
   },
   "source": [
    "But, I wont, because that's slow and frustrating. Let's use the playbook we're building to save our effort."
   ]
  },
  {
   "cell_type": "code",
   "execution_count": 75,
   "metadata": {
    "collapsed": false,
    "deletable": true,
    "editable": true
   },
   "outputs": [
    {
     "name": "stdout",
     "output_type": "stream",
     "text": [
      "Overwriting deploy_superset.yml\n"
     ]
    }
   ],
   "source": [
    "%%writefile deploy_superset.yml\n",
    "\n",
    "---\n",
    "- hosts: localhost\n",
    "\n",
    "  tasks:\n",
    "    - name: clone Superset git repo\n",
    "      git:\n",
    "        repo: https://github.com/airbnb/superset.git\n",
    "        dest: ~/experiment.superset\n",
    "    - name: install Superset system dependencies\n",
    "      homebrew:\n",
    "        name: \"{{ item }}\"\n",
    "        state: present\n",
    "      with_items:\n",
    "        - pkg-config\n",
    "        - libffi\n",
    "        - openssl"
   ]
  },
  {
   "cell_type": "markdown",
   "metadata": {},
   "source": [
    "> Take note of the simple [iteration](http://docs.ansible.com/ansible/playbooks_loops.html) syntax `with_items`."
   ]
  },
  {
   "cell_type": "markdown",
   "metadata": {
    "deletable": true,
    "editable": true
   },
   "source": [
    "### Test\n",
    "\n",
    "Since we didn't manually install every package using the command line, let's run the whole playbook."
   ]
  },
  {
   "cell_type": "code",
   "execution_count": 74,
   "metadata": {
    "collapsed": false,
    "deletable": true,
    "editable": true
   },
   "outputs": [
    {
     "name": "stdout",
     "output_type": "stream",
     "text": [
      " __________________ \n",
      "< PLAY [localhost] >\n",
      " ------------------ \n",
      "        \\   ^__^\n",
      "         \\  (oo)\\_______\n",
      "            (__)\\       )\\/\\\n",
      "                ||----w |\n",
      "                ||     ||\n",
      "\n",
      " ______________ \n",
      "< TASK [setup] >\n",
      " -------------- \n",
      "        \\   ^__^\n",
      "         \\  (oo)\\_______\n",
      "            (__)\\       )\\/\\\n",
      "                ||----w |\n",
      "                ||     ||\n",
      "\n",
      "ok: [localhost]\n",
      " ________________________________ \n",
      "< TASK [clone Superset git repo] >\n",
      " -------------------------------- \n",
      "        \\   ^__^\n",
      "         \\  (oo)\\_______\n",
      "            (__)\\       )\\/\\\n",
      "                ||----w |\n",
      "                ||     ||\n",
      "\n",
      "changed: [localhost]\n",
      " ______________________________________ \n",
      "< TASK [install Superset dependencies] >\n",
      " -------------------------------------- \n",
      "        \\   ^__^\n",
      "         \\  (oo)\\_______\n",
      "            (__)\\       )\\/\\\n",
      "                ||----w |\n",
      "                ||     ||\n",
      "\n",
      "ok: [localhost] => (item=[u'pkg-config', u'libffi', u'openssl'])\n",
      " ____________ \n",
      "< PLAY RECAP >\n",
      " ------------ \n",
      "        \\   ^__^\n",
      "         \\  (oo)\\_______\n",
      "            (__)\\       )\\/\\\n",
      "                ||----w |\n",
      "                ||     ||\n",
      "\n",
      "localhost                  : ok=3    changed=1    unreachable=0    failed=0   \n",
      "\n"
     ]
    },
    {
     "name": "stderr",
     "output_type": "stream",
     "text": [
      " [WARNING]: Host file not found: /usr/local/etc/ansible/hosts\n",
      " [WARNING]: provided hosts list is empty, only localhost is available\n"
     ]
    }
   ],
   "source": [
    "%%bash\n",
    "ansible-playbook deploy_superset.yml"
   ]
  },
  {
   "cell_type": "markdown",
   "metadata": {},
   "source": [
    "I'll skip this `stdout` spam throughout the rest of this tutorial."
   ]
  },
  {
   "cell_type": "markdown",
   "metadata": {},
   "source": [
    "## Install the Cryptography Python library"
   ]
  },
  {
   "cell_type": "markdown",
   "metadata": {
    "deletable": true,
    "editable": true
   },
   "source": [
    "Next the docs tell us to install the Python library [cryptography](https://cryptography.io/en/latest/). However, it also asks for some temporary environment variables to be set specific to this library which ensure that the library uses the correct installation of Openssl (the one we just installed with Brew).\n",
    "\n",
    "`env LDFLAGS=\"-L$(brew --prefix openssl)/lib\" CFLAGS=\"-I$(brew --prefix openssl)/include\" pip install cryptography`"
   ]
  },
  {
   "cell_type": "markdown",
   "metadata": {
    "deletable": true,
    "editable": true
   },
   "source": [
    "We can easily test the installation of one library using our usual method:"
   ]
  },
  {
   "cell_type": "markdown",
   "metadata": {
    "deletable": true,
    "editable": true
   },
   "source": [
    "### Test"
   ]
  },
  {
   "cell_type": "code",
   "execution_count": 76,
   "metadata": {
    "collapsed": false,
    "deletable": true,
    "editable": true
   },
   "outputs": [
    {
     "name": "stdout",
     "output_type": "stream",
     "text": [
      "localhost | SUCCESS => {\n",
      "    \"changed\": true, \n",
      "    \"cmd\": \"/usr/local/bin/pip2 install cryptography\", \n",
      "    \"name\": [\n",
      "        \"cryptography\"\n",
      "    ], \n",
      "    \"requirements\": null, \n",
      "    \"state\": \"present\", \n",
      "    \"stderr\": \"\", \n",
      "    \"stdout\": \"Collecting cryptography\\n  Downloading cryptography-1.8.1-cp27-cp27m-macosx_10_10_intel.whl (1.8MB)\\nCollecting six>=1.4.1 (from cryptography)\\n  Using cached six-1.10.0-py2.py3-none-any.whl\\nRequirement already satisfied: setuptools>=11.3 in /usr/local/lib/python2.7/site-packages (from cryptography)\\nCollecting cffi>=1.4.1 (from cryptography)\\n  Downloading cffi-1.10.0-cp27-cp27m-macosx_10_6_intel.whl (226kB)\\nCollecting idna>=2.1 (from cryptography)\\n  Using cached idna-2.5-py2.py3-none-any.whl\\nCollecting enum34 (from cryptography)\\n  Downloading enum34-1.1.6-py2-none-any.whl\\nCollecting asn1crypto>=0.21.0 (from cryptography)\\n  Using cached asn1crypto-0.22.0-py2.py3-none-any.whl\\nCollecting ipaddress (from cryptography)\\n  Downloading ipaddress-1.0.18-py2-none-any.whl\\nCollecting packaging (from cryptography)\\n  Using cached packaging-16.8-py2.py3-none-any.whl\\nCollecting pycparser (from cffi>=1.4.1->cryptography)\\nCollecting pyparsing (from packaging->cryptography)\\n  Using cached pyparsing-2.2.0-py2.py3-none-any.whl\\nInstalling collected packages: six, pycparser, cffi, idna, enum34, asn1crypto, ipaddress, pyparsing, packaging, cryptography\\nSuccessfully installed asn1crypto-0.22.0 cffi-1.10.0 cryptography-1.8.1 enum34-1.1.6 idna-2.5 ipaddress-1.0.18 packaging-16.8 pycparser-2.17 pyparsing-2.2.0 six-1.10.0\\n\", \n",
      "    \"stdout_lines\": [\n",
      "        \"Collecting cryptography\", \n",
      "        \"  Downloading cryptography-1.8.1-cp27-cp27m-macosx_10_10_intel.whl (1.8MB)\", \n",
      "        \"Collecting six>=1.4.1 (from cryptography)\", \n",
      "        \"  Using cached six-1.10.0-py2.py3-none-any.whl\", \n",
      "        \"Requirement already satisfied: setuptools>=11.3 in /usr/local/lib/python2.7/site-packages (from cryptography)\", \n",
      "        \"Collecting cffi>=1.4.1 (from cryptography)\", \n",
      "        \"  Downloading cffi-1.10.0-cp27-cp27m-macosx_10_6_intel.whl (226kB)\", \n",
      "        \"Collecting idna>=2.1 (from cryptography)\", \n",
      "        \"  Using cached idna-2.5-py2.py3-none-any.whl\", \n",
      "        \"Collecting enum34 (from cryptography)\", \n",
      "        \"  Downloading enum34-1.1.6-py2-none-any.whl\", \n",
      "        \"Collecting asn1crypto>=0.21.0 (from cryptography)\", \n",
      "        \"  Using cached asn1crypto-0.22.0-py2.py3-none-any.whl\", \n",
      "        \"Collecting ipaddress (from cryptography)\", \n",
      "        \"  Downloading ipaddress-1.0.18-py2-none-any.whl\", \n",
      "        \"Collecting packaging (from cryptography)\", \n",
      "        \"  Using cached packaging-16.8-py2.py3-none-any.whl\", \n",
      "        \"Collecting pycparser (from cffi>=1.4.1->cryptography)\", \n",
      "        \"Collecting pyparsing (from packaging->cryptography)\", \n",
      "        \"  Using cached pyparsing-2.2.0-py2.py3-none-any.whl\", \n",
      "        \"Installing collected packages: six, pycparser, cffi, idna, enum34, asn1crypto, ipaddress, pyparsing, packaging, cryptography\", \n",
      "        \"Successfully installed asn1crypto-0.22.0 cffi-1.10.0 cryptography-1.8.1 enum34-1.1.6 idna-2.5 ipaddress-1.0.18 packaging-16.8 pycparser-2.17 pyparsing-2.2.0 six-1.10.0\"\n",
      "    ], \n",
      "    \"version\": null, \n",
      "    \"virtualenv\": null\n",
      "}\n"
     ]
    },
    {
     "name": "stderr",
     "output_type": "stream",
     "text": [
      " [WARNING]: Host file not found: /usr/local/etc/ansible/hosts\n",
      " [WARNING]: provided hosts list is empty, only localhost is available\n"
     ]
    }
   ],
   "source": [
    "%%bash\n",
    "\n",
    "ansible localhost -m pip -a \"name=cryptography\""
   ]
  },
  {
   "cell_type": "markdown",
   "metadata": {
    "deletable": true,
    "editable": true
   },
   "source": [
    "> Setting the [environment variables](http://docs.ansible.com/ansible/playbooks_environment.html), however, is less easy. So let's put them straight into the playbook."
   ]
  },
  {
   "cell_type": "markdown",
   "metadata": {
    "deletable": true,
    "editable": true
   },
   "source": [
    "### Playbook"
   ]
  },
  {
   "cell_type": "code",
   "execution_count": 79,
   "metadata": {
    "collapsed": false,
    "deletable": true,
    "editable": true
   },
   "outputs": [
    {
     "name": "stdout",
     "output_type": "stream",
     "text": [
      "Overwriting deploy_superset.yml\n"
     ]
    }
   ],
   "source": [
    "%%writefile deploy_superset.yml\n",
    "\n",
    "---\n",
    "- hosts: localhost\n",
    "\n",
    "  tasks:\n",
    "    - name: clone Superset git repo\n",
    "      git:\n",
    "        repo: https://github.com/airbnb/superset.git\n",
    "        dest: ~/experiment.superset\n",
    "    - name: install Superset system dependencies\n",
    "      homebrew:\n",
    "        name: \"{{ item }}\"\n",
    "        state: present\n",
    "      with_items:\n",
    "        - pkg-config\n",
    "        - libffi\n",
    "        - openssl\n",
    "    - name: install cryptography with homebrew installed openssl\n",
    "      pip:\n",
    "        name: cryptography\n",
    "      environment:\n",
    "        LDFLAGS: '-L$(brew --prefix openssl)/lib'\n",
    "        CFLAGS: '-I$(brew --prefix openssl)/include'"
   ]
  },
  {
   "cell_type": "markdown",
   "metadata": {
    "deletable": true,
    "editable": true
   },
   "source": [
    "### Test"
   ]
  },
  {
   "cell_type": "code",
   "execution_count": null,
   "metadata": {
    "collapsed": false,
    "deletable": true,
    "editable": true,
    "scrolled": true
   },
   "outputs": [],
   "source": [
    "%%bash\n",
    "ansible-playbook deploy_superset.yml"
   ]
  },
  {
   "cell_type": "markdown",
   "metadata": {
    "deletable": true,
    "editable": true
   },
   "source": [
    "## Install other Python dependencies\n",
    "\n",
    "Since we're already familiar with how to install Python dependencies from the Cryptography example, we can add these straight to the playbook with confidence."
   ]
  },
  {
   "cell_type": "code",
   "execution_count": 137,
   "metadata": {
    "collapsed": false,
    "deletable": true,
    "editable": true
   },
   "outputs": [
    {
     "name": "stdout",
     "output_type": "stream",
     "text": [
      "Overwriting deploy_superset.yml\n"
     ]
    }
   ],
   "source": [
    "%%writefile deploy_superset.yml\n",
    "\n",
    "---\n",
    "- hosts: localhost\n",
    "\n",
    "  tasks:\n",
    "    - name: clone Superset git repo\n",
    "      git:\n",
    "        repo: https://github.com/airbnb/superset.git\n",
    "        dest: ~/experiment.superset\n",
    "\n",
    "    - name: install Superset system dependencies\n",
    "      homebrew:\n",
    "        name: \"{{ item }}\"\n",
    "        state: present\n",
    "      with_items:\n",
    "        - pkg-config\n",
    "        - libffi\n",
    "        - openssl\n",
    "\n",
    "    - name: install cryptography with homebrew installed openssl\n",
    "      pip:\n",
    "        name: cryptography\n",
    "        state: present\n",
    "        executable: ~/miniconda3/bin/pip\n",
    "      environment:\n",
    "        LDFLAGS: '-L$(brew --prefix openssl)/lib'\n",
    "        CFLAGS: '-I$(brew --prefix openssl)/include'\n",
    "\n",
    "    - name: install superset and postgresql database adapter library\n",
    "      pip:\n",
    "        name: superset psycopg2\n",
    "        state: present\n",
    "        executable: ~/miniconda3/bin/pip\n"
   ]
  },
  {
   "cell_type": "markdown",
   "metadata": {},
   "source": [
    "### Test\n",
    "Don't forget to test it though!"
   ]
  },
  {
   "cell_type": "code",
   "execution_count": null,
   "metadata": {
    "collapsed": true
   },
   "outputs": [],
   "source": [
    "%%bash\n",
    "\n",
    "ansible-playbook -C deploy_superset.yml"
   ]
  },
  {
   "cell_type": "markdown",
   "metadata": {},
   "source": [
    "### Finishing touches\n",
    "\n",
    "Finally, the last few commands that the superset docs require before running the server. These are basic bash commands which Ansible does not provide a specific module for so we should leverage the Ansible [Shell](http://docs.ansible.com/ansible/shell_module.html) module which enables execution of arbitrary bash commands."
   ]
  },
  {
   "cell_type": "code",
   "execution_count": null,
   "metadata": {
    "collapsed": true
   },
   "outputs": [],
   "source": [
    "%%writefile deploy_superset.yml\n",
    "\n",
    "---\n",
    "- hosts: localhost\n",
    "\n",
    "  tasks:\n",
    "    - name: clone Superset git repo\n",
    "      git:\n",
    "        repo: https://github.com/airbnb/superset.git\n",
    "        dest: ~/experiment.superset\n",
    "\n",
    "    - name: install Superset system dependencies\n",
    "      homebrew:\n",
    "        name: \"{{ item }}\"\n",
    "        state: present\n",
    "      with_items:\n",
    "        - pkg-config\n",
    "        - libffi\n",
    "        - openssl\n",
    "\n",
    "    - name: install cryptography with homebrew installed openssl\n",
    "      pip:\n",
    "        name: cryptography\n",
    "        state: present\n",
    "        executable: ~/miniconda3/bin/pip\n",
    "      environment:\n",
    "        LDFLAGS: '-L$(brew --prefix openssl)/lib'\n",
    "        CFLAGS: '-I$(brew --prefix openssl)/include'\n",
    "\n",
    "    - name: install superset and postgresql database adapter library\n",
    "      pip:\n",
    "        name: superset psycopg2\n",
    "        state: present\n",
    "        executable: ~/miniconda3/bin/pip\n",
    "\n",
    "    - name: run app init commands\n",
    "      shell: superset {{ item }}\n",
    "      args:\n",
    "        chdir: ~/experiment/superset\n",
    "      with_items:\n",
    "        - db upgrade\n",
    "        - load_examples\n",
    "        - init"
   ]
  },
  {
   "cell_type": "markdown",
   "metadata": {
    "deletable": true,
    "editable": true
   },
   "source": [
    "### Test"
   ]
  },
  {
   "cell_type": "code",
   "execution_count": null,
   "metadata": {
    "collapsed": false,
    "deletable": true,
    "editable": true
   },
   "outputs": [],
   "source": [
    "%%bash\n",
    "\n",
    "ansible-playbook -C deploy_superset.yml"
   ]
  },
  {
   "cell_type": "markdown",
   "metadata": {
    "deletable": true,
    "editable": true
   },
   "source": [
    "### LIve!\n",
    "\n",
    "Make sure every task has been executed at least once on your machine and run the entire playbook."
   ]
  },
  {
   "cell_type": "code",
   "execution_count": null,
   "metadata": {
    "collapsed": false,
    "deletable": true,
    "editable": true
   },
   "outputs": [],
   "source": [
    "%%bash\n",
    "ansible-playbook deploy_superset.yml"
   ]
  },
  {
   "cell_type": "markdown",
   "metadata": {
    "collapsed": true,
    "deletable": true,
    "editable": true
   },
   "source": [
    "## Finally\n",
    "\n",
    "There are two remaining things we need to do, according to the documentation.\n",
    "\n",
    "1. Run: `fabmanager create-admin --app superset` to setup an initial admin login user\n",
    "2. Run the server! `superset server`\n",
    "\n",
    "Both of these could be turned into tasks. However, the admin would probably be made by interacting with the database directly and we probably don't want the server run as a background job on our local machine, so best to control that ourselves for now."
   ]
  }
 ],
 "metadata": {
  "kernelspec": {
   "display_name": "Python 3",
   "language": "python",
   "name": "python3"
  },
  "language_info": {
   "codemirror_mode": {
    "name": "ipython",
    "version": 3
   },
   "file_extension": ".py",
   "mimetype": "text/x-python",
   "name": "python",
   "nbconvert_exporter": "python",
   "pygments_lexer": "ipython3",
   "version": "3.6.0"
  }
 },
 "nbformat": 4,
 "nbformat_minor": 2
}
